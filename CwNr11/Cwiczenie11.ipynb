{
 "cells": [
  {
   "cell_type": "code",
   "execution_count": 38,
   "metadata": {
    "pycharm": {
     "name": "#%%\n"
    }
   },
   "outputs": [],
   "source": [
    "import datetime\n",
    "import numpy as np\n",
    "import pandas as pd\n",
    "from IPython.display import display\n",
    "import plotly.graph_objects as go\n",
    "from ipywidgets import widgets\n",
    "\n",
    "\n"
   ]
  },
  {
   "cell_type": "code",
   "execution_count": 39,
   "metadata": {
    "pycharm": {
     "name": "#%%\n"
    }
   },
   "outputs": [
    {
     "data": {
      "text/html": [
       "<div>\n",
       "<style scoped>\n",
       "    .dataframe tbody tr th:only-of-type {\n",
       "        vertical-align: middle;\n",
       "    }\n",
       "\n",
       "    .dataframe tbody tr th {\n",
       "        vertical-align: top;\n",
       "    }\n",
       "\n",
       "    .dataframe thead th {\n",
       "        text-align: right;\n",
       "    }\n",
       "</style>\n",
       "<table border=\"1\" class=\"dataframe\">\n",
       "  <thead>\n",
       "    <tr style=\"text-align: right;\">\n",
       "      <th></th>\n",
       "      <th>Kraj</th>\n",
       "      <th>Sprzedawca</th>\n",
       "      <th>Data zamowienia</th>\n",
       "      <th>idZamowienia</th>\n",
       "      <th>Utarg</th>\n",
       "    </tr>\n",
       "  </thead>\n",
       "  <tbody>\n",
       "    <tr>\n",
       "      <th>0</th>\n",
       "      <td>Polska</td>\n",
       "      <td>Kowalski</td>\n",
       "      <td>2003-07-16</td>\n",
       "      <td>10248</td>\n",
       "      <td>440.00</td>\n",
       "    </tr>\n",
       "    <tr>\n",
       "      <th>1</th>\n",
       "      <td>Polska</td>\n",
       "      <td>Sowiński</td>\n",
       "      <td>2003-07-10</td>\n",
       "      <td>10249</td>\n",
       "      <td>1863.40</td>\n",
       "    </tr>\n",
       "    <tr>\n",
       "      <th>2</th>\n",
       "      <td>Niemcy</td>\n",
       "      <td>Peacock</td>\n",
       "      <td>2003-07-12</td>\n",
       "      <td>10250</td>\n",
       "      <td>1552.60</td>\n",
       "    </tr>\n",
       "    <tr>\n",
       "      <th>3</th>\n",
       "      <td>Niemcy</td>\n",
       "      <td>Leverling</td>\n",
       "      <td>2003-07-15</td>\n",
       "      <td>10251</td>\n",
       "      <td>654.06</td>\n",
       "    </tr>\n",
       "    <tr>\n",
       "      <th>4</th>\n",
       "      <td>Niemcy</td>\n",
       "      <td>Peacock</td>\n",
       "      <td>2003-07-11</td>\n",
       "      <td>10252</td>\n",
       "      <td>3597.90</td>\n",
       "    </tr>\n",
       "    <tr>\n",
       "      <th>5</th>\n",
       "      <td>Niemcy</td>\n",
       "      <td>Leverling</td>\n",
       "      <td>2003-07-16</td>\n",
       "      <td>10253</td>\n",
       "      <td>1444.80</td>\n",
       "    </tr>\n",
       "    <tr>\n",
       "      <th>6</th>\n",
       "      <td>Polska</td>\n",
       "      <td>Kowalski</td>\n",
       "      <td>2003-07-23</td>\n",
       "      <td>10254</td>\n",
       "      <td>556.62</td>\n",
       "    </tr>\n",
       "    <tr>\n",
       "      <th>7</th>\n",
       "      <td>Polska</td>\n",
       "      <td>Dudek</td>\n",
       "      <td>2003-07-15</td>\n",
       "      <td>10255</td>\n",
       "      <td>2490.50</td>\n",
       "    </tr>\n",
       "    <tr>\n",
       "      <th>8</th>\n",
       "      <td>Niemcy</td>\n",
       "      <td>Leverling</td>\n",
       "      <td>2003-07-17</td>\n",
       "      <td>10256</td>\n",
       "      <td>517.80</td>\n",
       "    </tr>\n",
       "    <tr>\n",
       "      <th>9</th>\n",
       "      <td>Niemcy</td>\n",
       "      <td>Peacock</td>\n",
       "      <td>2003-07-22</td>\n",
       "      <td>10257</td>\n",
       "      <td>1119.90</td>\n",
       "    </tr>\n",
       "  </tbody>\n",
       "</table>\n",
       "</div>"
      ],
      "text/plain": [
       "     Kraj Sprzedawca Data zamowienia  idZamowienia    Utarg\n",
       "0  Polska   Kowalski      2003-07-16         10248   440.00\n",
       "1  Polska   Sowiński      2003-07-10         10249  1863.40\n",
       "2  Niemcy    Peacock      2003-07-12         10250  1552.60\n",
       "3  Niemcy  Leverling      2003-07-15         10251   654.06\n",
       "4  Niemcy    Peacock      2003-07-11         10252  3597.90\n",
       "5  Niemcy  Leverling      2003-07-16         10253  1444.80\n",
       "6  Polska   Kowalski      2003-07-23         10254   556.62\n",
       "7  Polska      Dudek      2003-07-15         10255  2490.50\n",
       "8  Niemcy  Leverling      2003-07-17         10256   517.80\n",
       "9  Niemcy    Peacock      2003-07-22         10257  1119.90"
      ]
     },
     "execution_count": 39,
     "metadata": {},
     "output_type": "execute_result"
    }
   ],
   "source": [
    "df = pd.read_csv('C:/Users/Adam/Desktop/repo/wd_dswp/lab_10/data/zamowienia.csv', sep=';')\n",
    "df.head(10)"
   ]
  },
  {
   "cell_type": "code",
   "execution_count": 35,
   "metadata": {
    "pycharm": {
     "name": "#%%\n"
    }
   },
   "outputs": [],
   "source": [
    "h1 = go.Histogram(x=df['Utarg'], opacity=0.75, name='Utarg')\n",
    "h2 = go.Histogram(x=df['Sprzedawca'], opacity=0.75, name='Sprzedawcy')\n",
    "graph = go.FigureWidget(data=[h1, h2], layout=go.Layout(title=dict(text='Zamówienia'),barmode='overlay'))"
   ]
  },
  {
   "cell_type": "code",
   "execution_count": 36,
   "metadata": {
    "pycharm": {
     "name": "#%%\n"
    }
   },
   "outputs": [],
   "source": [
    "df['Data zamowienia'] = pd.to_datetime(df['Data zamowienia'])\n",
    "year = widgets.Dropdown(\n",
    "    description='Rok:',\n",
    "    value=\"-\",\n",
    "    options=[\"-\"]+pd.DatetimeIndex(df['Data zamowienia']).year.unique().tolist())\n",
    "seller = widgets.Dropdown(\n",
    "    description='Sprzedawca:',\n",
    "    value=\"-\",\n",
    "    options=[\"-\"]+df['Sprzedawca'].unique().tolist())\n",
    "country = widgets.Dropdown(\n",
    "    description='Kraj:',\n",
    "    value=\"-\",\n",
    "    options=[\"-\"]+df['Kraj'].unique().tolist())\n",
    "aggregation = widgets.Dropdown(\n",
    "    description='Agregacja:',\n",
    "    value=\"-\",\n",
    "    options=[\"-\"]+['Suma', 'Średnia'])"
   ]
  },
  {
   "cell_type": "code",
   "execution_count": 37,
   "metadata": {
    "pycharm": {
     "name": "#%%\n"
    }
   },
   "outputs": [
    {
     "data": {
      "application/vnd.jupyter.widget-view+json": {
       "model_id": "a95f5ffb975e4fd99b35ee295298c0c3",
       "version_major": 2,
       "version_minor": 0
      },
      "text/plain": [
       "VBox(children=(HBox(children=(Dropdown(description='Rok:', options=('-', 2003, 2004, 2005), value='-'), Dropdo…"
      ]
     },
     "metadata": {},
     "output_type": "display_data"
    }
   ],
   "source": [
    "def response(change):\n",
    "    filter_list = [i and j and k for i, j, k in\n",
    "        zip(df['Data zamowienia'].dt.year == year.value,\n",
    "            df['Sprzedawca'] == seller.value,\n",
    "            df['Kraj'] == country.value)]\n",
    "    temp_df = df[filter_list]\n",
    "    if agg.value == 'Suma':\n",
    "        x = temp_df['Utarg'].sum()\n",
    "    else:\n",
    "        x = temp_df['Utarg'].mean()\n",
    "    with graph.batch_update():\n",
    "        graph.data[0].x = x\n",
    "        graph.layout.barmode = 'overlay'\n",
    "\n",
    "\n",
    "year.observe(response, names='value')\n",
    "seller.observe(response, names='value')\n",
    "country.observe(response, names='value')\n",
    "aggregation.observe(response, names='value')\n",
    "\n",
    "ctr = widgets.HBox([year, seller, country, aggregation])\n",
    "w = widgets.VBox([ctr,raph])\n",
    "\n",
    "display(w)"
   ]
  },
  {
   "cell_type": "code",
   "execution_count": null,
   "metadata": {},
   "outputs": [],
   "source": []
  }
 ],
 "metadata": {
  "kernelspec": {
   "display_name": "Python 3 (ipykernel)",
   "language": "python",
   "name": "python3"
  },
  "language_info": {
   "codemirror_mode": {
    "name": "ipython",
    "version": 3
   },
   "file_extension": ".py",
   "mimetype": "text/x-python",
   "name": "python",
   "nbconvert_exporter": "python",
   "pygments_lexer": "ipython3",
   "version": "3.9.7"
  }
 },
 "nbformat": 4,
 "nbformat_minor": 1
}
