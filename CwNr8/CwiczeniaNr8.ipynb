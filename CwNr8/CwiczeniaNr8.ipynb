{
 "cells": [
  {
   "cell_type": "code",
   "execution_count": 1,
   "id": "ad07299a",
   "metadata": {},
   "outputs": [
    {
     "data": {
      "text/html": [
       "<div>\n",
       "<style scoped>\n",
       "    .dataframe tbody tr th:only-of-type {\n",
       "        vertical-align: middle;\n",
       "    }\n",
       "\n",
       "    .dataframe tbody tr th {\n",
       "        vertical-align: top;\n",
       "    }\n",
       "\n",
       "    .dataframe thead th {\n",
       "        text-align: right;\n",
       "    }\n",
       "</style>\n",
       "<table border=\"1\" class=\"dataframe\">\n",
       "  <thead>\n",
       "    <tr style=\"text-align: right;\">\n",
       "      <th></th>\n",
       "      <th>Rok</th>\n",
       "      <th>Imie</th>\n",
       "      <th>Liczba</th>\n",
       "      <th>Plec</th>\n",
       "    </tr>\n",
       "  </thead>\n",
       "  <tbody>\n",
       "    <tr>\n",
       "      <th>0</th>\n",
       "      <td>2000</td>\n",
       "      <td>JAKUB</td>\n",
       "      <td>14497</td>\n",
       "      <td>M</td>\n",
       "    </tr>\n",
       "    <tr>\n",
       "      <th>1</th>\n",
       "      <td>2000</td>\n",
       "      <td>MATEUSZ</td>\n",
       "      <td>11454</td>\n",
       "      <td>M</td>\n",
       "    </tr>\n",
       "    <tr>\n",
       "      <th>2</th>\n",
       "      <td>2000</td>\n",
       "      <td>KACPER</td>\n",
       "      <td>8898</td>\n",
       "      <td>M</td>\n",
       "    </tr>\n",
       "    <tr>\n",
       "      <th>3</th>\n",
       "      <td>2000</td>\n",
       "      <td>MICHAŁ</td>\n",
       "      <td>8498</td>\n",
       "      <td>M</td>\n",
       "    </tr>\n",
       "    <tr>\n",
       "      <th>4</th>\n",
       "      <td>2000</td>\n",
       "      <td>PATRYK</td>\n",
       "      <td>7743</td>\n",
       "      <td>M</td>\n",
       "    </tr>\n",
       "  </tbody>\n",
       "</table>\n",
       "</div>"
      ],
      "text/plain": [
       "    Rok     Imie  Liczba Plec\n",
       "0  2000    JAKUB   14497    M\n",
       "1  2000  MATEUSZ   11454    M\n",
       "2  2000   KACPER    8898    M\n",
       "3  2000   MICHAŁ    8498    M\n",
       "4  2000   PATRYK    7743    M"
      ]
     },
     "execution_count": 1,
     "metadata": {},
     "output_type": "execute_result"
    }
   ],
   "source": [
    "import numpy as np\n",
    "import pandas as pd\n",
    "import matplotlib.pyplot as plt\n",
    "%matplotlib inline\n",
    "import seaborn as sns\n",
    "df = pd.read_excel('C:/Users/Adam/Desktop/repo/wd_dswp/lab_6/data/imiona.xlsx')\n",
    "df.head()"
   ]
  },
  {
   "cell_type": "code",
   "execution_count": 164,
   "id": "1c7f7d73",
   "metadata": {},
   "outputs": [
    {
     "data": {
      "image/png": "[encoded data removed]",
      "text/plain": [
       "<Figure size 432x288 with 1 Axes>"
      ]
     },
     "metadata": {
      "needs_background": "light"
     },
     "output_type": "display_data"
    }
   ],
   "source": [
    "# Zadanie 1\n",
    "df_births=df[df.Rok>=2010] \n",
    "df_births=df_births[df_births.Rok<=2015] \n",
    "dane=df_births.groupby([\"Rok\", \"Plec\"]).agg({\"Liczba\":sum}).reset_index()\n",
    "plt.xticks(rotation=45)\n",
    "ax = sns.barplot(x=dane.Rok, y=dane.Liczba, hue=dane.Plec)\n",
    "\n",
    "for container in ax.containers:\n",
    "    ax.bar_label(container);"
   ]
  },
  {
   "cell_type": "code",
   "execution_count": 165,
   "id": "36e2a96c",
   "metadata": {},
   "outputs": [
    {
     "data": {
      "text/plain": [
       "('JAKUB', 'JULIA')"
      ]
     },
     "execution_count": 165,
     "metadata": {},
     "output_type": "execute_result"
    }
   ],
   "source": [
    "# Zadanie 2\n",
    "Male_most_popular_name=df[df.Plec==\"M\"].groupby(\"Imie\").sum(\"Liczba\").sort_values(by=\"Liczba\", ascending=False).index[0]\n",
    "Female_most_popular_name=df[df.Plec==\"K\"].groupby(\"Imie\").sum(\"Liczba\").sort_values(by=\"Liczba\", ascending=False).index[0]\n",
    "Male_most_popular_name, Female_most_popular_name"
   ]
  },
  {
   "cell_type": "code",
   "execution_count": 166,
   "id": "b03fd366",
   "metadata": {},
   "outputs": [
    {
     "data": {
      "text/plain": [
       "98"
      ]
     },
     "execution_count": 166,
     "metadata": {},
     "output_type": "execute_result"
    }
   ],
   "source": [
    "# Zadanie 3\n",
    "len([i for i in df[\"Imie\"].unique().tolist() if i[0]==\"K\"])"
   ]
  }
 ],
 "metadata": {
  "kernelspec": {
   "display_name": "Python 3 (ipykernel)",
   "language": "python",
   "name": "python3"
  },
  "language_info": {
   "codemirror_mode": {
    "name": "ipython",
    "version": 3
   },
   "file_extension": ".py",
   "mimetype": "text/x-python",
   "name": "python",
   "nbconvert_exporter": "python",
   "pygments_lexer": "ipython3",
   "version": "3.9.7"
  }
 },
 "nbformat": 4,
 "nbformat_minor": 5
}
